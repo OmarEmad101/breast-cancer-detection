{
 "cells": [
  {
   "cell_type": "markdown",
   "id": "b28a5f3a",
   "metadata": {
    "papermill": {
     "duration": 0.006814,
     "end_time": "2024-05-18T10:11:03.311622",
     "exception": false,
     "start_time": "2024-05-18T10:11:03.304808",
     "status": "completed"
    },
    "tags": []
   },
   "source": [
    "# Breast Cancer Image Classification Hierarchical Models Approach"
   ]
  },
  {
   "cell_type": "markdown",
   "id": "124717b8",
   "metadata": {
    "papermill": {
     "duration": 0.005704,
     "end_time": "2024-05-18T10:11:03.323582",
     "exception": false,
     "start_time": "2024-05-18T10:11:03.317878",
     "status": "completed"
    },
    "tags": []
   },
   "source": [
    "The dataset Contatins breast images for normal, benign, and malignant breast cancers along with segmentation masks, \n",
    "after discarding the segmentation masks from training we have 445 benign , 220 malignant, 133 normal ultrasound images"
   ]
  },
  {
   "cell_type": "markdown",
   "id": "1bf11464",
   "metadata": {
    "papermill": {
     "duration": 0.005834,
     "end_time": "2024-05-18T10:11:03.335531",
     "exception": false,
     "start_time": "2024-05-18T10:11:03.329697",
     "status": "completed"
    },
    "tags": []
   },
   "source": [
    "**we care to reduce false normal predictions, f1-score, confusion matrix will be our chosen metrics**"
   ]
  },
  {
   "cell_type": "markdown",
   "id": "c23261b1",
   "metadata": {
    "papermill": {
     "duration": 0.006008,
     "end_time": "2024-05-18T10:11:03.347430",
     "exception": false,
     "start_time": "2024-05-18T10:11:03.341422",
     "status": "completed"
    },
    "tags": []
   },
   "source": [
    "## Importing Modules"
   ]
  },
  {
   "cell_type": "code",
   "execution_count": 1,
   "id": "f70122c0",
   "metadata": {
    "execution": {
     "iopub.execute_input": "2024-05-18T10:11:03.361214Z",
     "iopub.status.busy": "2024-05-18T10:11:03.360497Z",
     "iopub.status.idle": "2024-05-18T10:11:09.161260Z",
     "shell.execute_reply": "2024-05-18T10:11:09.160304Z"
    },
    "papermill": {
     "duration": 5.810249,
     "end_time": "2024-05-18T10:11:09.163576",
     "exception": false,
     "start_time": "2024-05-18T10:11:03.353327",
     "status": "completed"
    },
    "tags": []
   },
   "outputs": [
    {
     "name": "stderr",
     "output_type": "stream",
     "text": [
      "/opt/conda/lib/python3.10/site-packages/scipy/__init__.py:146: UserWarning: A NumPy version >=1.16.5 and <1.23.0 is required for this version of SciPy (detected version 1.24.3\n",
      "  warnings.warn(f\"A NumPy version >={np_minversion} and <{np_maxversion}\"\n"
     ]
    }
   ],
   "source": [
    "import numpy as np\n",
    "import os\n",
    "import optuna\n",
    "import xgboost as xgb\n",
    "from sklearn.ensemble import RandomForestClassifier\n",
    "import cv2\n",
    "from PIL import Image\n",
    "import matplotlib.pyplot as plt\n",
    "from sklearn.ensemble import AdaBoostClassifier\n",
    "from sklearn.linear_model import LogisticRegression\n",
    "from sklearn.tree import DecisionTreeClassifier\n",
    "from sklearn.metrics import accuracy_score, classification_report, confusion_matrix\n",
    "from sklearn.model_selection import train_test_split\n",
    "import matplotlib.pyplot as plt\n",
    "import seaborn as sns\n",
    "from sklearn.metrics import f1_score, make_scorer\n",
    "import warnings\n",
    "from sklearn import svm\n",
    "warnings.filterwarnings(\"ignore\")\n",
    "from sklearn.model_selection import KFold, cross_val_score"
   ]
  },
  {
   "cell_type": "markdown",
   "id": "5feb0927",
   "metadata": {
    "papermill": {
     "duration": 0.006266,
     "end_time": "2024-05-18T10:11:09.176453",
     "exception": false,
     "start_time": "2024-05-18T10:11:09.170187",
     "status": "completed"
    },
    "tags": []
   },
   "source": [
    "### We Binarize our problem to just predicting whether the image is normal or cancerous "
   ]
  },
  {
   "cell_type": "markdown",
   "id": "d2582c76",
   "metadata": {
    "papermill": {
     "duration": 0.006079,
     "end_time": "2024-05-18T10:11:09.188496",
     "exception": false,
     "start_time": "2024-05-18T10:11:09.182417",
     "status": "completed"
    },
    "tags": []
   },
   "source": [
    "#### **We notice that unlike all usual datasets the normal is not the dominant class**"
   ]
  },
  {
   "cell_type": "markdown",
   "id": "70ee284a",
   "metadata": {
    "papermill": {
     "duration": 0.005751,
     "end_time": "2024-05-18T10:11:09.200280",
     "exception": false,
     "start_time": "2024-05-18T10:11:09.194529",
     "status": "completed"
    },
    "tags": []
   },
   "source": [
    "### General purpose preprocessing is done just resizing and normalization"
   ]
  },
  {
   "cell_type": "code",
   "execution_count": 2,
   "id": "f0e71a5f",
   "metadata": {
    "execution": {
     "iopub.execute_input": "2024-05-18T10:11:09.213646Z",
     "iopub.status.busy": "2024-05-18T10:11:09.213257Z",
     "iopub.status.idle": "2024-05-18T10:11:09.220049Z",
     "shell.execute_reply": "2024-05-18T10:11:09.219324Z"
    },
    "papermill": {
     "duration": 0.015462,
     "end_time": "2024-05-18T10:11:09.221831",
     "exception": false,
     "start_time": "2024-05-18T10:11:09.206369",
     "status": "completed"
    },
    "tags": []
   },
   "outputs": [],
   "source": [
    "def load(image_folder, label_value):\n",
    "    images = [img for img in os.listdir(image_directory + image_folder)]\n",
    "    for i, image_name in enumerate(images):\n",
    "        if image_name.split('.')[1] == 'png':\n",
    "            image = cv2.imread(image_directory + image_folder + image_name)\n",
    "            if image is not None:\n",
    "                image = Image.fromarray(image)\n",
    "                image = image.resize((SIZE, SIZE))\n",
    "                image = np.array(image)\n",
    "                if \"mask\" in image_name:\n",
    "                    continue\n",
    "                \n",
    "                dataset.append(image)\n",
    "                label.append(label_value)\n",
    "                if i == 133:\n",
    "                    break"
   ]
  },
  {
   "cell_type": "code",
   "execution_count": 3,
   "id": "3f142499",
   "metadata": {
    "execution": {
     "iopub.execute_input": "2024-05-18T10:11:09.235158Z",
     "iopub.status.busy": "2024-05-18T10:11:09.234886Z",
     "iopub.status.idle": "2024-05-18T10:11:22.878100Z",
     "shell.execute_reply": "2024-05-18T10:11:22.877302Z"
    },
    "papermill": {
     "duration": 13.652499,
     "end_time": "2024-05-18T10:11:22.880420",
     "exception": false,
     "start_time": "2024-05-18T10:11:09.227921",
     "status": "completed"
    },
    "tags": []
   },
   "outputs": [],
   "source": [
    "image_directory = \"../input/breast-ultrasound-images-dataset/Dataset_BUSI_with_GT/\"\n",
    "SIZE = 64\n",
    "dataset = []\n",
    "label = []\n",
    "load('normal/', 0)\n",
    "load('benign/', 1)  \n",
    "load('malignant/', 2)\n",
    "dataset = np.array(dataset)\n",
    "label = np.array(label)"
   ]
  },
  {
   "cell_type": "code",
   "execution_count": 4,
   "id": "f1928aea",
   "metadata": {
    "execution": {
     "iopub.execute_input": "2024-05-18T10:11:22.894456Z",
     "iopub.status.busy": "2024-05-18T10:11:22.894162Z",
     "iopub.status.idle": "2024-05-18T10:11:22.910019Z",
     "shell.execute_reply": "2024-05-18T10:11:22.909313Z"
    },
    "papermill": {
     "duration": 0.024641,
     "end_time": "2024-05-18T10:11:22.911854",
     "exception": false,
     "start_time": "2024-05-18T10:11:22.887213",
     "status": "completed"
    },
    "tags": []
   },
   "outputs": [],
   "source": [
    "X_train, X_test, y_train, y_test = train_test_split(dataset.reshape(dataset.shape[0], -1), label, test_size=0.1, shuffle=True, random_state=42, stratify=label)"
   ]
  },
  {
   "cell_type": "markdown",
   "id": "d19fc0e9",
   "metadata": {
    "papermill": {
     "duration": 0.005696,
     "end_time": "2024-05-18T10:11:22.924156",
     "exception": false,
     "start_time": "2024-05-18T10:11:22.918460",
     "status": "completed"
    },
    "tags": []
   },
   "source": [
    "## Boosting a Logistic Regression Model with adaptive boosting "
   ]
  },
  {
   "cell_type": "markdown",
   "id": "e5f89090",
   "metadata": {
    "papermill": {
     "duration": 0.005771,
     "end_time": "2024-05-18T10:11:22.936056",
     "exception": false,
     "start_time": "2024-05-18T10:11:22.930285",
     "status": "completed"
    },
    "tags": []
   },
   "source": [
    "#### **The feature vectors are flattened to a (1, 28x28) vector and the data was split into 80~20 format with stratified sampling to ensure that the training and testing distributions are the same , random shuffling is also enabled**"
   ]
  },
  {
   "cell_type": "markdown",
   "id": "ecac7ac8",
   "metadata": {
    "papermill": {
     "duration": 0.005897,
     "end_time": "2024-05-18T10:11:22.947809",
     "exception": false,
     "start_time": "2024-05-18T10:11:22.941912",
     "status": "completed"
    },
    "tags": []
   },
   "source": [
    "#### **we trained an adaptive boosting algorithm with a 100 logistic regression model as a weak learners that are regularized with the C hyperparam to 0.01 and a learning rate of 0.1 **"
   ]
  },
  {
   "cell_type": "code",
   "execution_count": 5,
   "id": "ba442cea",
   "metadata": {
    "execution": {
     "iopub.execute_input": "2024-05-18T10:11:22.960844Z",
     "iopub.status.busy": "2024-05-18T10:11:22.960503Z",
     "iopub.status.idle": "2024-05-18T10:11:22.965036Z",
     "shell.execute_reply": "2024-05-18T10:11:22.964225Z"
    },
    "papermill": {
     "duration": 0.013444,
     "end_time": "2024-05-18T10:11:22.967108",
     "exception": false,
     "start_time": "2024-05-18T10:11:22.953664",
     "status": "completed"
    },
    "tags": []
   },
   "outputs": [],
   "source": [
    "base_estimator = LogisticRegression(max_iter=5000, C=0.0001)  \n",
    "n_estimators = 100  \n",
    "learning_rate =0.1  \n",
    "adaboost_model = AdaBoostClassifier(base_estimator=base_estimator, n_estimators=n_estimators, learning_rate=learning_rate, random_state=42)"
   ]
  },
  {
   "cell_type": "code",
   "execution_count": 6,
   "id": "39e09c78",
   "metadata": {
    "execution": {
     "iopub.execute_input": "2024-05-18T10:11:22.980575Z",
     "iopub.status.busy": "2024-05-18T10:11:22.979953Z",
     "iopub.status.idle": "2024-05-18T10:12:46.016582Z",
     "shell.execute_reply": "2024-05-18T10:12:46.009371Z"
    },
    "papermill": {
     "duration": 83.062646,
     "end_time": "2024-05-18T10:12:46.035694",
     "exception": false,
     "start_time": "2024-05-18T10:11:22.973048",
     "status": "completed"
    },
    "tags": []
   },
   "outputs": [
    {
     "name": "stdout",
     "output_type": "stream",
     "text": [
      "Mean F1 Score: 0.8366125945732861\n"
     ]
    }
   ],
   "source": [
    "kf = KFold(n_splits=10,shuffle=True, random_state=42)\n",
    "scorer = make_scorer(f1_score)\n",
    "scores = cross_val_score(adaboost_model, X_train, (y_train > 0).astype(int), cv=kf, scoring=scorer)  \n",
    "mean_f1_score = np.mean(scores)\n",
    "print(\"Mean F1 Score:\", mean_f1_score)"
   ]
  },
  {
   "cell_type": "code",
   "execution_count": 7,
   "id": "dacb65c5",
   "metadata": {
    "execution": {
     "iopub.execute_input": "2024-05-18T10:12:46.094470Z",
     "iopub.status.busy": "2024-05-18T10:12:46.093787Z",
     "iopub.status.idle": "2024-05-18T10:12:58.642486Z",
     "shell.execute_reply": "2024-05-18T10:12:58.641336Z"
    },
    "papermill": {
     "duration": 12.581766,
     "end_time": "2024-05-18T10:12:58.646162",
     "exception": false,
     "start_time": "2024-05-18T10:12:46.064396",
     "status": "completed"
    },
    "tags": []
   },
   "outputs": [
    {
     "data": {
      "text/html": [
       "<style>#sk-container-id-1 {color: black;background-color: white;}#sk-container-id-1 pre{padding: 0;}#sk-container-id-1 div.sk-toggleable {background-color: white;}#sk-container-id-1 label.sk-toggleable__label {cursor: pointer;display: block;width: 100%;margin-bottom: 0;padding: 0.3em;box-sizing: border-box;text-align: center;}#sk-container-id-1 label.sk-toggleable__label-arrow:before {content: \"▸\";float: left;margin-right: 0.25em;color: #696969;}#sk-container-id-1 label.sk-toggleable__label-arrow:hover:before {color: black;}#sk-container-id-1 div.sk-estimator:hover label.sk-toggleable__label-arrow:before {color: black;}#sk-container-id-1 div.sk-toggleable__content {max-height: 0;max-width: 0;overflow: hidden;text-align: left;background-color: #f0f8ff;}#sk-container-id-1 div.sk-toggleable__content pre {margin: 0.2em;color: black;border-radius: 0.25em;background-color: #f0f8ff;}#sk-container-id-1 input.sk-toggleable__control:checked~div.sk-toggleable__content {max-height: 200px;max-width: 100%;overflow: auto;}#sk-container-id-1 input.sk-toggleable__control:checked~label.sk-toggleable__label-arrow:before {content: \"▾\";}#sk-container-id-1 div.sk-estimator input.sk-toggleable__control:checked~label.sk-toggleable__label {background-color: #d4ebff;}#sk-container-id-1 div.sk-label input.sk-toggleable__control:checked~label.sk-toggleable__label {background-color: #d4ebff;}#sk-container-id-1 input.sk-hidden--visually {border: 0;clip: rect(1px 1px 1px 1px);clip: rect(1px, 1px, 1px, 1px);height: 1px;margin: -1px;overflow: hidden;padding: 0;position: absolute;width: 1px;}#sk-container-id-1 div.sk-estimator {font-family: monospace;background-color: #f0f8ff;border: 1px dotted black;border-radius: 0.25em;box-sizing: border-box;margin-bottom: 0.5em;}#sk-container-id-1 div.sk-estimator:hover {background-color: #d4ebff;}#sk-container-id-1 div.sk-parallel-item::after {content: \"\";width: 100%;border-bottom: 1px solid gray;flex-grow: 1;}#sk-container-id-1 div.sk-label:hover label.sk-toggleable__label {background-color: #d4ebff;}#sk-container-id-1 div.sk-serial::before {content: \"\";position: absolute;border-left: 1px solid gray;box-sizing: border-box;top: 0;bottom: 0;left: 50%;z-index: 0;}#sk-container-id-1 div.sk-serial {display: flex;flex-direction: column;align-items: center;background-color: white;padding-right: 0.2em;padding-left: 0.2em;position: relative;}#sk-container-id-1 div.sk-item {position: relative;z-index: 1;}#sk-container-id-1 div.sk-parallel {display: flex;align-items: stretch;justify-content: center;background-color: white;position: relative;}#sk-container-id-1 div.sk-item::before, #sk-container-id-1 div.sk-parallel-item::before {content: \"\";position: absolute;border-left: 1px solid gray;box-sizing: border-box;top: 0;bottom: 0;left: 50%;z-index: -1;}#sk-container-id-1 div.sk-parallel-item {display: flex;flex-direction: column;z-index: 1;position: relative;background-color: white;}#sk-container-id-1 div.sk-parallel-item:first-child::after {align-self: flex-end;width: 50%;}#sk-container-id-1 div.sk-parallel-item:last-child::after {align-self: flex-start;width: 50%;}#sk-container-id-1 div.sk-parallel-item:only-child::after {width: 0;}#sk-container-id-1 div.sk-dashed-wrapped {border: 1px dashed gray;margin: 0 0.4em 0.5em 0.4em;box-sizing: border-box;padding-bottom: 0.4em;background-color: white;}#sk-container-id-1 div.sk-label label {font-family: monospace;font-weight: bold;display: inline-block;line-height: 1.2em;}#sk-container-id-1 div.sk-label-container {text-align: center;}#sk-container-id-1 div.sk-container {/* jupyter's `normalize.less` sets `[hidden] { display: none; }` but bootstrap.min.css set `[hidden] { display: none !important; }` so we also need the `!important` here to be able to override the default hidden behavior on the sphinx rendered scikit-learn.org. See: https://github.com/scikit-learn/scikit-learn/issues/21755 */display: inline-block !important;position: relative;}#sk-container-id-1 div.sk-text-repr-fallback {display: none;}</style><div id=\"sk-container-id-1\" class=\"sk-top-container\"><div class=\"sk-text-repr-fallback\"><pre>AdaBoostClassifier(base_estimator=LogisticRegression(C=0.0001, max_iter=5000),\n",
       "                   learning_rate=0.1, n_estimators=100, random_state=42)</pre><b>In a Jupyter environment, please rerun this cell to show the HTML representation or trust the notebook. <br />On GitHub, the HTML representation is unable to render, please try loading this page with nbviewer.org.</b></div><div class=\"sk-container\" hidden><div class=\"sk-item sk-dashed-wrapped\"><div class=\"sk-label-container\"><div class=\"sk-label sk-toggleable\"><input class=\"sk-toggleable__control sk-hidden--visually\" id=\"sk-estimator-id-1\" type=\"checkbox\" ><label for=\"sk-estimator-id-1\" class=\"sk-toggleable__label sk-toggleable__label-arrow\">AdaBoostClassifier</label><div class=\"sk-toggleable__content\"><pre>AdaBoostClassifier(base_estimator=LogisticRegression(C=0.0001, max_iter=5000),\n",
       "                   learning_rate=0.1, n_estimators=100, random_state=42)</pre></div></div></div><div class=\"sk-parallel\"><div class=\"sk-parallel-item\"><div class=\"sk-item\"><div class=\"sk-label-container\"><div class=\"sk-label sk-toggleable\"><input class=\"sk-toggleable__control sk-hidden--visually\" id=\"sk-estimator-id-2\" type=\"checkbox\" ><label for=\"sk-estimator-id-2\" class=\"sk-toggleable__label sk-toggleable__label-arrow\">base_estimator: LogisticRegression</label><div class=\"sk-toggleable__content\"><pre>LogisticRegression(C=0.0001, max_iter=5000)</pre></div></div></div><div class=\"sk-serial\"><div class=\"sk-item\"><div class=\"sk-estimator sk-toggleable\"><input class=\"sk-toggleable__control sk-hidden--visually\" id=\"sk-estimator-id-3\" type=\"checkbox\" ><label for=\"sk-estimator-id-3\" class=\"sk-toggleable__label sk-toggleable__label-arrow\">LogisticRegression</label><div class=\"sk-toggleable__content\"><pre>LogisticRegression(C=0.0001, max_iter=5000)</pre></div></div></div></div></div></div></div></div></div></div>"
      ],
      "text/plain": [
       "AdaBoostClassifier(base_estimator=LogisticRegression(C=0.0001, max_iter=5000),\n",
       "                   learning_rate=0.1, n_estimators=100, random_state=42)"
      ]
     },
     "execution_count": 7,
     "metadata": {},
     "output_type": "execute_result"
    }
   ],
   "source": [
    "adaboost_model.fit(X_train, (y_train > 0).astype(int))"
   ]
  },
  {
   "cell_type": "code",
   "execution_count": 8,
   "id": "f8f26465",
   "metadata": {
    "execution": {
     "iopub.execute_input": "2024-05-18T10:12:58.698297Z",
     "iopub.status.busy": "2024-05-18T10:12:58.697822Z",
     "iopub.status.idle": "2024-05-18T10:12:59.142544Z",
     "shell.execute_reply": "2024-05-18T10:12:59.141547Z"
    },
    "papermill": {
     "duration": 0.477122,
     "end_time": "2024-05-18T10:12:59.145036",
     "exception": false,
     "start_time": "2024-05-18T10:12:58.667914",
     "status": "completed"
    },
    "tags": []
   },
   "outputs": [
    {
     "data": {
      "image/png": "[encoded data removed]",
      "text/plain": [
       "<Figure size 800x600 with 2 Axes>"
      ]
     },
     "metadata": {},
     "output_type": "display_data"
    }
   ],
   "source": [
    "y_pred = adaboost_model.predict(X_test)\n",
    "cm = confusion_matrix((y_test > 0).astype(int), y_pred)\n",
    "plt.figure(figsize=(8, 6))\n",
    "sns.heatmap(cm, annot=True, fmt='d', cmap='Blues',\n",
    "            xticklabels=['Normal', 'Cancerous'],\n",
    "            yticklabels=['Normal', 'Cancerous'])\n",
    "plt.xlabel('Predicted')\n",
    "plt.ylabel('Actual')\n",
    "plt.title('Confusion Matrix for the first stage binary classification')\n",
    "plt.show()"
   ]
  },
  {
   "cell_type": "code",
   "execution_count": 9,
   "id": "7a050cc3",
   "metadata": {
    "execution": {
     "iopub.execute_input": "2024-05-18T10:12:59.163817Z",
     "iopub.status.busy": "2024-05-18T10:12:59.163232Z",
     "iopub.status.idle": "2024-05-18T10:12:59.169007Z",
     "shell.execute_reply": "2024-05-18T10:12:59.168010Z"
    },
    "papermill": {
     "duration": 0.017821,
     "end_time": "2024-05-18T10:12:59.171386",
     "exception": false,
     "start_time": "2024-05-18T10:12:59.153565",
     "status": "completed"
    },
    "tags": []
   },
   "outputs": [
    {
     "name": "stdout",
     "output_type": "stream",
     "text": [
      "False Negative Rate: 14.29%\n"
     ]
    }
   ],
   "source": [
    "tn, fp, fn, tp = cm.ravel()\n",
    "# Calculating the false negative rate\n",
    "fnr = fn / (fn + tp)\n",
    "fnr_percentage = fnr * 100\n",
    "print(\"False Negative Rate: {:.2f}%\".format(fnr_percentage))"
   ]
  },
  {
   "cell_type": "markdown",
   "id": "0d16b22d",
   "metadata": {
    "papermill": {
     "duration": 0.008369,
     "end_time": "2024-05-18T10:12:59.188026",
     "exception": false,
     "start_time": "2024-05-18T10:12:59.179657",
     "status": "completed"
    },
    "tags": []
   },
   "source": [
    "### The F1-Score is relativly acceptable compared to scores from other Classical ML approaches , In addition to very low false negative rate"
   ]
  },
  {
   "cell_type": "code",
   "execution_count": 10,
   "id": "3b99d2a4",
   "metadata": {
    "execution": {
     "iopub.execute_input": "2024-05-18T10:12:59.206658Z",
     "iopub.status.busy": "2024-05-18T10:12:59.206373Z",
     "iopub.status.idle": "2024-05-18T10:12:59.214049Z",
     "shell.execute_reply": "2024-05-18T10:12:59.213016Z"
    },
    "papermill": {
     "duration": 0.019226,
     "end_time": "2024-05-18T10:12:59.216456",
     "exception": false,
     "start_time": "2024-05-18T10:12:59.197230",
     "status": "completed"
    },
    "tags": []
   },
   "outputs": [
    {
     "data": {
      "text/plain": [
       "0.7619047619047619"
      ]
     },
     "execution_count": 10,
     "metadata": {},
     "output_type": "execute_result"
    }
   ],
   "source": [
    "accuracy_score((y_test > 0).astype(int), y_pred)"
   ]
  },
  {
   "cell_type": "markdown",
   "id": "28e0f158",
   "metadata": {
    "papermill": {
     "duration": 0.00826,
     "end_time": "2024-05-18T10:12:59.234070",
     "exception": false,
     "start_time": "2024-05-18T10:12:59.225810",
     "status": "completed"
    },
    "tags": []
   },
   "source": [
    "### Now Classifying Benign versus Malignant"
   ]
  },
  {
   "cell_type": "code",
   "execution_count": 11,
   "id": "51c40522",
   "metadata": {
    "execution": {
     "iopub.execute_input": "2024-05-18T10:12:59.250038Z",
     "iopub.status.busy": "2024-05-18T10:12:59.249791Z",
     "iopub.status.idle": "2024-05-18T10:12:59.253583Z",
     "shell.execute_reply": "2024-05-18T10:12:59.252759Z"
    },
    "papermill": {
     "duration": 0.013887,
     "end_time": "2024-05-18T10:12:59.255614",
     "exception": false,
     "start_time": "2024-05-18T10:12:59.241727",
     "status": "completed"
    },
    "tags": []
   },
   "outputs": [],
   "source": [
    "mask = ~(y_train==0)"
   ]
  },
  {
   "cell_type": "markdown",
   "id": "17b482a3",
   "metadata": {
    "papermill": {
     "duration": 0.007193,
     "end_time": "2024-05-18T10:12:59.270060",
     "exception": false,
     "start_time": "2024-05-18T10:12:59.262867",
     "status": "completed"
    },
    "tags": []
   },
   "source": [
    "### Boosting Logistic regression model for the second task"
   ]
  },
  {
   "cell_type": "markdown",
   "id": "75e80f0d",
   "metadata": {
    "papermill": {
     "duration": 0.007064,
     "end_time": "2024-05-18T10:12:59.284501",
     "exception": false,
     "start_time": "2024-05-18T10:12:59.277437",
     "status": "completed"
    },
    "tags": []
   },
   "source": [
    "#### **Using the same setup for the first stage for adaboost and logistic regression also yeild acceptable F1-Score results**"
   ]
  },
  {
   "cell_type": "code",
   "execution_count": 12,
   "id": "bcdfdf6f",
   "metadata": {
    "execution": {
     "iopub.execute_input": "2024-05-18T10:12:59.300112Z",
     "iopub.status.busy": "2024-05-18T10:12:59.299872Z",
     "iopub.status.idle": "2024-05-18T10:13:24.296754Z",
     "shell.execute_reply": "2024-05-18T10:13:24.295569Z"
    },
    "papermill": {
     "duration": 25.008665,
     "end_time": "2024-05-18T10:13:24.300513",
     "exception": false,
     "start_time": "2024-05-18T10:12:59.291848",
     "status": "completed"
    },
    "tags": []
   },
   "outputs": [
    {
     "name": "stdout",
     "output_type": "stream",
     "text": [
      "Mean F1 Score: 0.8453601116258929\n"
     ]
    },
    {
     "data": {
      "text/html": [
       "<style>#sk-container-id-2 {color: black;background-color: white;}#sk-container-id-2 pre{padding: 0;}#sk-container-id-2 div.sk-toggleable {background-color: white;}#sk-container-id-2 label.sk-toggleable__label {cursor: pointer;display: block;width: 100%;margin-bottom: 0;padding: 0.3em;box-sizing: border-box;text-align: center;}#sk-container-id-2 label.sk-toggleable__label-arrow:before {content: \"▸\";float: left;margin-right: 0.25em;color: #696969;}#sk-container-id-2 label.sk-toggleable__label-arrow:hover:before {color: black;}#sk-container-id-2 div.sk-estimator:hover label.sk-toggleable__label-arrow:before {color: black;}#sk-container-id-2 div.sk-toggleable__content {max-height: 0;max-width: 0;overflow: hidden;text-align: left;background-color: #f0f8ff;}#sk-container-id-2 div.sk-toggleable__content pre {margin: 0.2em;color: black;border-radius: 0.25em;background-color: #f0f8ff;}#sk-container-id-2 input.sk-toggleable__control:checked~div.sk-toggleable__content {max-height: 200px;max-width: 100%;overflow: auto;}#sk-container-id-2 input.sk-toggleable__control:checked~label.sk-toggleable__label-arrow:before {content: \"▾\";}#sk-container-id-2 div.sk-estimator input.sk-toggleable__control:checked~label.sk-toggleable__label {background-color: #d4ebff;}#sk-container-id-2 div.sk-label input.sk-toggleable__control:checked~label.sk-toggleable__label {background-color: #d4ebff;}#sk-container-id-2 input.sk-hidden--visually {border: 0;clip: rect(1px 1px 1px 1px);clip: rect(1px, 1px, 1px, 1px);height: 1px;margin: -1px;overflow: hidden;padding: 0;position: absolute;width: 1px;}#sk-container-id-2 div.sk-estimator {font-family: monospace;background-color: #f0f8ff;border: 1px dotted black;border-radius: 0.25em;box-sizing: border-box;margin-bottom: 0.5em;}#sk-container-id-2 div.sk-estimator:hover {background-color: #d4ebff;}#sk-container-id-2 div.sk-parallel-item::after {content: \"\";width: 100%;border-bottom: 1px solid gray;flex-grow: 1;}#sk-container-id-2 div.sk-label:hover label.sk-toggleable__label {background-color: #d4ebff;}#sk-container-id-2 div.sk-serial::before {content: \"\";position: absolute;border-left: 1px solid gray;box-sizing: border-box;top: 0;bottom: 0;left: 50%;z-index: 0;}#sk-container-id-2 div.sk-serial {display: flex;flex-direction: column;align-items: center;background-color: white;padding-right: 0.2em;padding-left: 0.2em;position: relative;}#sk-container-id-2 div.sk-item {position: relative;z-index: 1;}#sk-container-id-2 div.sk-parallel {display: flex;align-items: stretch;justify-content: center;background-color: white;position: relative;}#sk-container-id-2 div.sk-item::before, #sk-container-id-2 div.sk-parallel-item::before {content: \"\";position: absolute;border-left: 1px solid gray;box-sizing: border-box;top: 0;bottom: 0;left: 50%;z-index: -1;}#sk-container-id-2 div.sk-parallel-item {display: flex;flex-direction: column;z-index: 1;position: relative;background-color: white;}#sk-container-id-2 div.sk-parallel-item:first-child::after {align-self: flex-end;width: 50%;}#sk-container-id-2 div.sk-parallel-item:last-child::after {align-self: flex-start;width: 50%;}#sk-container-id-2 div.sk-parallel-item:only-child::after {width: 0;}#sk-container-id-2 div.sk-dashed-wrapped {border: 1px dashed gray;margin: 0 0.4em 0.5em 0.4em;box-sizing: border-box;padding-bottom: 0.4em;background-color: white;}#sk-container-id-2 div.sk-label label {font-family: monospace;font-weight: bold;display: inline-block;line-height: 1.2em;}#sk-container-id-2 div.sk-label-container {text-align: center;}#sk-container-id-2 div.sk-container {/* jupyter's `normalize.less` sets `[hidden] { display: none; }` but bootstrap.min.css set `[hidden] { display: none !important; }` so we also need the `!important` here to be able to override the default hidden behavior on the sphinx rendered scikit-learn.org. See: https://github.com/scikit-learn/scikit-learn/issues/21755 */display: inline-block !important;position: relative;}#sk-container-id-2 div.sk-text-repr-fallback {display: none;}</style><div id=\"sk-container-id-2\" class=\"sk-top-container\"><div class=\"sk-text-repr-fallback\"><pre>AdaBoostClassifier(base_estimator=LogisticRegression(C=0.001, max_iter=5000),\n",
       "                   learning_rate=0.1, n_estimators=100, random_state=42)</pre><b>In a Jupyter environment, please rerun this cell to show the HTML representation or trust the notebook. <br />On GitHub, the HTML representation is unable to render, please try loading this page with nbviewer.org.</b></div><div class=\"sk-container\" hidden><div class=\"sk-item sk-dashed-wrapped\"><div class=\"sk-label-container\"><div class=\"sk-label sk-toggleable\"><input class=\"sk-toggleable__control sk-hidden--visually\" id=\"sk-estimator-id-4\" type=\"checkbox\" ><label for=\"sk-estimator-id-4\" class=\"sk-toggleable__label sk-toggleable__label-arrow\">AdaBoostClassifier</label><div class=\"sk-toggleable__content\"><pre>AdaBoostClassifier(base_estimator=LogisticRegression(C=0.001, max_iter=5000),\n",
       "                   learning_rate=0.1, n_estimators=100, random_state=42)</pre></div></div></div><div class=\"sk-parallel\"><div class=\"sk-parallel-item\"><div class=\"sk-item\"><div class=\"sk-label-container\"><div class=\"sk-label sk-toggleable\"><input class=\"sk-toggleable__control sk-hidden--visually\" id=\"sk-estimator-id-5\" type=\"checkbox\" ><label for=\"sk-estimator-id-5\" class=\"sk-toggleable__label sk-toggleable__label-arrow\">base_estimator: LogisticRegression</label><div class=\"sk-toggleable__content\"><pre>LogisticRegression(C=0.001, max_iter=5000)</pre></div></div></div><div class=\"sk-serial\"><div class=\"sk-item\"><div class=\"sk-estimator sk-toggleable\"><input class=\"sk-toggleable__control sk-hidden--visually\" id=\"sk-estimator-id-6\" type=\"checkbox\" ><label for=\"sk-estimator-id-6\" class=\"sk-toggleable__label sk-toggleable__label-arrow\">LogisticRegression</label><div class=\"sk-toggleable__content\"><pre>LogisticRegression(C=0.001, max_iter=5000)</pre></div></div></div></div></div></div></div></div></div></div>"
      ],
      "text/plain": [
       "AdaBoostClassifier(base_estimator=LogisticRegression(C=0.001, max_iter=5000),\n",
       "                   learning_rate=0.1, n_estimators=100, random_state=42)"
      ]
     },
     "execution_count": 12,
     "metadata": {},
     "output_type": "execute_result"
    }
   ],
   "source": [
    "log_reg = LogisticRegression(max_iter=5000, C=0.001)\n",
    "adaboost_model_2 = AdaBoostClassifier(base_estimator=log_reg, n_estimators=n_estimators, learning_rate=learning_rate, random_state=42)\n",
    "kf = KFold(n_splits=10,shuffle=True, random_state=42)\n",
    "scorer = make_scorer(f1_score)\n",
    "scores = cross_val_score(adaboost_model_2, X_train[mask], ((y_train[mask]-1)>0).astype(int), cv=kf, scoring=scorer)  \n",
    "mean_f1_score = np.mean(scores)\n",
    "print(\"Mean F1 Score:\", mean_f1_score)\n",
    "adaboost_model_2.fit(X_train[mask], y_train[mask])"
   ]
  },
  {
   "cell_type": "code",
   "execution_count": 13,
   "id": "ac412111",
   "metadata": {
    "execution": {
     "iopub.execute_input": "2024-05-18T10:13:24.356738Z",
     "iopub.status.busy": "2024-05-18T10:13:24.356123Z",
     "iopub.status.idle": "2024-05-18T10:13:24.668396Z",
     "shell.execute_reply": "2024-05-18T10:13:24.667378Z"
    },
    "papermill": {
     "duration": 0.344986,
     "end_time": "2024-05-18T10:13:24.670569",
     "exception": false,
     "start_time": "2024-05-18T10:13:24.325583",
     "status": "completed"
    },
    "tags": []
   },
   "outputs": [
    {
     "data": {
      "image/png": "[encoded data removed]",
      "text/plain": [
       "<Figure size 800x600 with 2 Axes>"
      ]
     },
     "metadata": {},
     "output_type": "display_data"
    }
   ],
   "source": [
    "cm = confusion_matrix(y_test[~(y_test==0)], adaboost_model_2.predict(X_test[~(y_test==0)]))\n",
    "plt.figure(figsize=(8, 6))\n",
    "sns.heatmap(cm, annot=True, fmt='d', cmap='Blues',\n",
    "            xticklabels=['Benign', 'Malignant'],\n",
    "            yticklabels=['Benign', 'Malignant'])\n",
    "plt.xlabel('Predicted')\n",
    "plt.ylabel('Actual')\n",
    "plt.title('Confusion Matrix')\n",
    "plt.show()"
   ]
  }
 ],
 "metadata": {
  "kaggle": {
   "accelerator": "nvidiaTeslaT4",
   "dataSources": [
    {
     "datasetId": 180,
     "sourceId": 408,
     "sourceType": "datasetVersion"
    },
    {
     "datasetId": 1209633,
     "sourceId": 2021025,
     "sourceType": "datasetVersion"
    }
   ],
   "dockerImageVersionId": 30627,
   "isGpuEnabled": true,
   "isInternetEnabled": true,
   "language": "python",
   "sourceType": "notebook"
  },
  "kernelspec": {
   "display_name": "Python 3",
   "language": "python",
   "name": "python3"
  },
  "language_info": {
   "codemirror_mode": {
    "name": "ipython",
    "version": 3
   },
   "file_extension": ".py",
   "mimetype": "text/x-python",
   "name": "python",
   "nbconvert_exporter": "python",
   "pygments_lexer": "ipython3",
   "version": "3.10.12"
  },
  "papermill": {
   "default_parameters": {},
   "duration": 146.554397,
   "end_time": "2024-05-18T10:13:25.297976",
   "environment_variables": {},
   "exception": null,
   "input_path": "__notebook__.ipynb",
   "output_path": "__notebook__.ipynb",
   "parameters": {},
   "start_time": "2024-05-18T10:10:58.743579",
   "version": "2.4.0"
  }
 },
 "nbformat": 4,
 "nbformat_minor": 5
}
